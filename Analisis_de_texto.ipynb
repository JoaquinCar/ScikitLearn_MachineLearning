{
 "cells": [
  {
   "cell_type": "markdown",
   "id": "7d404fb8",
   "metadata": {},
   "source": [
    "Analisis de texto\n",
    "\n",
    "- representa el texto como una matriz de frecuencia de palabras\n",
    "\n",
    "- partir el texto en tokens\n",
    "\n",
    "- cuenta las ocurrencias de cada uno de los tokens\n",
    "\n",
    "- asigna valores de un vector de acuerdo a numero de ocurrencias\n",
    "\n",
    "https://scikit-learn.org/1.6/modules/generated/sklearn.feature_extraction.text.CountVectorizer.html"
   ]
  },
  {
   "cell_type": "code",
   "execution_count": 1,
   "id": "466257ed",
   "metadata": {},
   "outputs": [],
   "source": [
    "corpus = [\n",
    "    \"Time is a flat circle.\",   \n",
    "    \"The world needs bad men. We keep the other bad men from the door.\",\n",
    "    \"I think human consciousness is a tragic misstep in evolution.\"\n",
    "]"
   ]
  },
  {
   "cell_type": "code",
   "execution_count": 3,
   "id": "0f109de3",
   "metadata": {},
   "outputs": [],
   "source": [
    "from sklearn.feature_extraction.text import CountVectorizer\n",
    "vectorizer = CountVectorizer()"
   ]
  },
  {
   "cell_type": "code",
   "execution_count": 5,
   "id": "ae4f0559",
   "metadata": {},
   "outputs": [
    {
     "data": {
      "text/plain": [
       "<Compressed Sparse Row sparse matrix of dtype 'int64'\n",
       "\twith 22 stored elements and shape (3, 21)>"
      ]
     },
     "execution_count": 5,
     "metadata": {},
     "output_type": "execute_result"
    }
   ],
   "source": [
    "vectorizer.fit_transform(corpus)"
   ]
  },
  {
   "cell_type": "code",
   "execution_count": 7,
   "id": "daa3c431",
   "metadata": {},
   "outputs": [
    {
     "name": "stdout",
     "output_type": "stream",
     "text": [
      "['bad' 'circle' 'consciousness' 'door' 'evolution' 'flat' 'from' 'human'\n",
      " 'in' 'is' 'keep' 'men' 'misstep' 'needs' 'other' 'the' 'think' 'time'\n",
      " 'tragic' 'we' 'world']\n"
     ]
    }
   ],
   "source": [
    "print(vectorizer.get_feature_names_out())  # Get the feature names after transformation"
   ]
  },
  {
   "cell_type": "code",
   "execution_count": 9,
   "id": "872d95c5",
   "metadata": {},
   "outputs": [
    {
     "data": {
      "text/plain": [
       "array([[0, 1, 0, 0, 0, 1, 0, 0, 0, 1, 0, 0, 0, 0, 0, 0, 0, 1, 0, 0, 0],\n",
       "       [2, 0, 0, 1, 0, 0, 1, 0, 0, 0, 1, 2, 0, 1, 1, 3, 0, 0, 0, 1, 1],\n",
       "       [0, 0, 1, 0, 1, 0, 0, 1, 1, 1, 0, 0, 1, 0, 0, 0, 1, 0, 1, 0, 0]])"
      ]
     },
     "execution_count": 9,
     "metadata": {},
     "output_type": "execute_result"
    }
   ],
   "source": [
    "vectorizer.fit_transform(corpus).toarray()  # Convert the document-term matrix to an array"
   ]
  },
  {
   "cell_type": "code",
   "execution_count": 11,
   "id": "8d6f3c6b",
   "metadata": {},
   "outputs": [
    {
     "data": {
      "text/plain": [
       "{'time': 17,\n",
       " 'is': 9,\n",
       " 'flat': 5,\n",
       " 'circle': 1,\n",
       " 'the': 15,\n",
       " 'world': 20,\n",
       " 'needs': 13,\n",
       " 'bad': 0,\n",
       " 'men': 11,\n",
       " 'we': 19,\n",
       " 'keep': 10,\n",
       " 'other': 14,\n",
       " 'from': 6,\n",
       " 'door': 3,\n",
       " 'think': 16,\n",
       " 'human': 7,\n",
       " 'consciousness': 2,\n",
       " 'tragic': 18,\n",
       " 'misstep': 12,\n",
       " 'in': 8,\n",
       " 'evolution': 4}"
      ]
     },
     "execution_count": 11,
     "metadata": {},
     "output_type": "execute_result"
    }
   ],
   "source": [
    "vectorizer.vocabulary_  # Access the vocabulary dictionary"
   ]
  },
  {
   "cell_type": "code",
   "execution_count": 12,
   "id": "bb0d781e",
   "metadata": {},
   "outputs": [
    {
     "data": {
      "text/plain": [
       "[array(['circle', 'flat', 'is', 'time'], dtype='<U13'),\n",
       " array(['bad', 'door', 'from', 'keep', 'men', 'needs', 'other', 'the',\n",
       "        'we', 'world'], dtype='<U13'),\n",
       " array(['consciousness', 'evolution', 'human', 'in', 'is', 'misstep',\n",
       "        'think', 'tragic'], dtype='<U13')]"
      ]
     },
     "execution_count": 12,
     "metadata": {},
     "output_type": "execute_result"
    }
   ],
   "source": [
    "# se pierde el orden de las palabras\n",
    "vectorizer.inverse_transform(vectorizer.fit_transform(corpus).toarray())  # Inverse transform to get original words"
   ]
  },
  {
   "cell_type": "code",
   "execution_count": null,
   "id": "643a79b7",
   "metadata": {},
   "outputs": [
    {
     "data": {
      "text/plain": [
       "array([[0, 1, 0, 0, 0, 1, 0, 0, 0, 1],\n",
       "       [1, 0, 0, 1, 0, 0, 1, 0, 0, 0],\n",
       "       [0, 0, 1, 0, 1, 0, 0, 1, 1, 1]])"
      ]
     },
     "execution_count": 16,
     "metadata": {},
     "output_type": "execute_result"
    }
   ],
   "source": [
    "modified_count_vectorizer = CountVectorizer(binary=True, max_features=10)\n",
    "modified_count_vectorizer.fit_transform(corpus).toarray()  # Fit and transform with binary counts and max features"
   ]
  },
  {
   "cell_type": "code",
   "execution_count": null,
   "id": "a8acfb3d",
   "metadata": {},
   "outputs": [],
   "source": [
    " # Convert the document-term matrix to an array with binary values\n",
    "\n",
    "#max_df_vectorizer = CountVectorizer(max_df=3) #means ignore terms that appear in more than 3 documents"
   ]
  }
 ],
 "metadata": {
  "kernelspec": {
   "display_name": "Python 3",
   "language": "python",
   "name": "python3"
  },
  "language_info": {
   "codemirror_mode": {
    "name": "ipython",
    "version": 3
   },
   "file_extension": ".py",
   "mimetype": "text/x-python",
   "name": "python",
   "nbconvert_exporter": "python",
   "pygments_lexer": "ipython3",
   "version": "3.11.9"
  }
 },
 "nbformat": 4,
 "nbformat_minor": 5
}
