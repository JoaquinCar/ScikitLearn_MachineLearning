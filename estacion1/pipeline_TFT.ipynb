{
 "cells": [
  {
   "cell_type": "code",
   "execution_count": 1,
   "id": "2ec23128",
   "metadata": {},
   "outputs": [
    {
     "name": "stdout",
     "output_type": "stream",
     "text": [
      "✅ Dataset listo para TFT. Tamaño final: (34685, 22)\n"
     ]
    }
   ],
   "source": [
    "import pandas as pd\n",
    "from sklearn.preprocessing import MinMaxScaler\n",
    "\n",
    "# Cargar archivo original\n",
    "df = pd.read_csv(\"estacion1.csv\")\n",
    "\n",
    "# Asegurarse de que la columna 'fecha' esté en formato datetime\n",
    "df['fecha'] = pd.to_datetime(df['fecha'])\n",
    "\n",
    "# Pivotar el dataset: cada fila será un timestamp y cada columna un sensor\n",
    "df_pivot = df.pivot_table(index='fecha', columns='sensor_name', values='sensor_dato', aggfunc='first').reset_index()\n",
    "\n",
    "# Codificar variable categórica: Direccion del Viento (One-Hot)\n",
    "if 'Direccion del Viento' in df_pivot.columns:\n",
    "    df_pivot = pd.get_dummies(df_pivot, columns=['Direccion del Viento'], prefix='Viento')\n",
    "\n",
    "# Convertir todas las columnas posibles a numéricas \n",
    "for col in df_pivot.columns:\n",
    "    if col != 'fecha':\n",
    "        df_pivot[col] = pd.to_numeric(df_pivot[col], errors='coerce')\n",
    "\n",
    "# Eliminar filas con CO2 faltante (target)\n",
    "df_pivot = df_pivot[df_pivot['CO2'].notnull()].copy()\n",
    "\n",
    "# Guardar columna fecha por separado y escalar el resto\n",
    "fechas = df_pivot['fecha']\n",
    "df_num = df_pivot.drop(columns=['fecha'])\n",
    "\n",
    "# Normalizar entre 0 y 1\n",
    "scaler = MinMaxScaler()\n",
    "df_scaled = pd.DataFrame(scaler.fit_transform(df_num), columns=df_num.columns)\n",
    "\n",
    "# Volver a unir fechas\n",
    "df_final = pd.concat([fechas.reset_index(drop=True), df_scaled], axis=1)\n",
    "\n",
    "# Guardar como archivo listo para TFT\n",
    "df_final.to_csv(\"data_tft_ready.csv\", index=False)\n",
    "\n",
    "print(\"✅ Dataset listo para TFT. Tamaño final:\", df_final.shape)"
   ]
  }
 ],
 "metadata": {
  "kernelspec": {
   "display_name": "Python 3",
   "language": "python",
   "name": "python3"
  },
  "language_info": {
   "codemirror_mode": {
    "name": "ipython",
    "version": 3
   },
   "file_extension": ".py",
   "mimetype": "text/x-python",
   "name": "python",
   "nbconvert_exporter": "python",
   "pygments_lexer": "ipython3",
   "version": "3.11.9"
  }
 },
 "nbformat": 4,
 "nbformat_minor": 5
}
