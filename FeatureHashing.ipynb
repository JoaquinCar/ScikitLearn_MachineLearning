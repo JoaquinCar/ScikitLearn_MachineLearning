{
 "cells": [
  {
   "cell_type": "markdown",
   "id": "3c669f3e",
   "metadata": {},
   "source": [
    "FEATURE HASHING\n",
    "\n",
    "- consiste en aplicar una funcion hash al valor de una caracteristica para asocuarlo con una posicion dentro de un arreglo\n",
    "\n",
    "- podemos usarla cuando tenemos alta cardinalidad\n",
    "\n",
    "- salida compacta y simple\n",
    "\n",
    "- No tiene estado, es stateless, no tiene caso hacer .fit\n",
    "\n",
    "https://scikit-learn.org/1.6/modules/generated/sklearn.feature_extraction.FeatureHasher.html"
   ]
  },
  {
   "cell_type": "code",
   "execution_count": 1,
   "id": "0b47d2fe",
   "metadata": {},
   "outputs": [],
   "source": [
    "data = [\n",
    "    {'apple': 5, 'banana': 3, 'cherry': 8},\n",
    "    {'kiwi': 2, 'banana': 6, 'orange': 1},\n",
    "    {'pineapple': 4, 'kiwi': 3},\n",
    "]"
   ]
  },
  {
   "cell_type": "code",
   "execution_count": 2,
   "id": "3b660a6d",
   "metadata": {},
   "outputs": [],
   "source": [
    "from sklearn.feature_extraction import FeatureHasher"
   ]
  },
  {
   "cell_type": "code",
   "execution_count": null,
   "id": "b6db1419",
   "metadata": {},
   "outputs": [],
   "source": [
    "hasher = FeatureHasher(n_features=10, input_type='dict') # Initialize FeatureHasher with 10 features\n",
    "#features es s una característica o atributo de los datos que se va a transformar en una columna del vector de salida."
   ]
  },
  {
   "cell_type": "code",
   "execution_count": null,
   "id": "36c826c1",
   "metadata": {},
   "outputs": [
    {
     "name": "stdout",
     "output_type": "stream",
     "text": [
      "<Compressed Sparse Row sparse matrix of dtype 'float64'\n",
      "\twith 6 stored elements and shape (3, 10)>\n",
      "  Coords\tValues\n",
      "  (0, 0)\t5.0\n",
      "  (0, 4)\t-8.0\n",
      "  (0, 5)\t-3.0\n",
      "  (1, 3)\t-2.0\n",
      "  (1, 5)\t-7.0\n",
      "  (2, 3)\t-7.0\n",
      "[[ 5.  0.  0.  0. -8. -3.  0.  0.  0.  0.]\n",
      " [ 0.  0.  0. -2.  0. -7.  0.  0.  0.  0.]\n",
      " [ 0.  0.  0. -7.  0.  0.  0.  0.  0.  0.]]\n"
     ]
    }
   ],
   "source": [
    "hashed_date = hasher.fit_transform(data)  # Transform the data into hashed features\n",
    "#el resultado es un sparse matrix\n",
    "print(hashed_date)  # Print the hashed features\n",
    "# es mas sencillo de ver si lo convertimos a un array denso, pero ocupa mas memoria\n",
    "\n",
    "print(hashed_date.toarray())  # Convert sparse matrix to dense array for better readability\n",
    "\n"
   ]
  },
  {
   "cell_type": "code",
   "execution_count": 21,
   "id": "4b4892e3",
   "metadata": {},
   "outputs": [],
   "source": [
    "hasher2 = FeatureHasher(n_features=32, input_type='string')\n",
    "\n",
    "hashed_date2 = hasher2.transform([\n",
    "    ['apple', 'banana', 'cherry'],\n",
    "    ['cat','bird'],\n",
    "    ['fish','dog']]) # Transform a list of strings\n"
   ]
  },
  {
   "cell_type": "code",
   "execution_count": 19,
   "id": "5078b2b2",
   "metadata": {},
   "outputs": [
    {
     "data": {
      "text/plain": [
       "<Compressed Sparse Row sparse matrix of dtype 'float64'\n",
       "\twith 4 stored elements and shape (3, 2)>"
      ]
     },
     "execution_count": 19,
     "metadata": {},
     "output_type": "execute_result"
    }
   ],
   "source": [
    "hashed_date2"
   ]
  },
  {
   "cell_type": "code",
   "execution_count": 22,
   "id": "f4b96538",
   "metadata": {},
   "outputs": [
    {
     "name": "stdout",
     "output_type": "stream",
     "text": [
      "<Compressed Sparse Row sparse matrix of dtype 'float64'\n",
      "\twith 7 stored elements and shape (3, 32)>\n",
      "  Coords\tValues\n",
      "  (0, 6)\t-1.0\n",
      "  (0, 16)\t1.0\n",
      "  (0, 17)\t-1.0\n",
      "  (1, 7)\t1.0\n",
      "  (1, 17)\t-1.0\n",
      "  (2, 5)\t-1.0\n",
      "  (2, 15)\t1.0\n"
     ]
    }
   ],
   "source": [
    "print(hashed_date2)"
   ]
  },
  {
   "cell_type": "code",
   "execution_count": 23,
   "id": "0b3366d0",
   "metadata": {},
   "outputs": [
    {
     "data": {
      "text/plain": [
       "array([[ 0.,  0.,  0.,  0.,  0.,  0., -1.,  0.,  0.,  0.,  0.,  0.,  0.,\n",
       "         0.,  0.,  0.,  1., -1.,  0.,  0.,  0.,  0.,  0.,  0.,  0.,  0.,\n",
       "         0.,  0.,  0.,  0.,  0.,  0.],\n",
       "       [ 0.,  0.,  0.,  0.,  0.,  0.,  0.,  1.,  0.,  0.,  0.,  0.,  0.,\n",
       "         0.,  0.,  0.,  0., -1.,  0.,  0.,  0.,  0.,  0.,  0.,  0.,  0.,\n",
       "         0.,  0.,  0.,  0.,  0.,  0.],\n",
       "       [ 0.,  0.,  0.,  0.,  0., -1.,  0.,  0.,  0.,  0.,  0.,  0.,  0.,\n",
       "         0.,  0.,  1.,  0.,  0.,  0.,  0.,  0.,  0.,  0.,  0.,  0.,  0.,\n",
       "         0.,  0.,  0.,  0.,  0.,  0.]])"
      ]
     },
     "execution_count": 23,
     "metadata": {},
     "output_type": "execute_result"
    }
   ],
   "source": [
    "hashed_date2.toarray()"
   ]
  }
 ],
 "metadata": {
  "kernelspec": {
   "display_name": "Python 3",
   "language": "python",
   "name": "python3"
  },
  "language_info": {
   "codemirror_mode": {
    "name": "ipython",
    "version": 3
   },
   "file_extension": ".py",
   "mimetype": "text/x-python",
   "name": "python",
   "nbconvert_exporter": "python",
   "pygments_lexer": "ipython3",
   "version": "3.11.9"
  }
 },
 "nbformat": 4,
 "nbformat_minor": 5
}
